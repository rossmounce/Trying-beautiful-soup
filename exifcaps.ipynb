{
 "metadata": {
  "name": ""
 },
 "nbformat": 3,
 "nbformat_minor": 0,
 "worksheets": [
  {
   "cells": [
    {
     "cell_type": "code",
     "collapsed": false,
     "input": [
      "cd biologydirect-1-1-19/"
     ],
     "language": "python",
     "metadata": {},
     "outputs": [
      {
       "output_type": "stream",
       "stream": "stdout",
       "text": [
        "/home/ross/workspace/mygithub/Trying-beautiful-soup/biologydirect-1-1-19\n"
       ]
      }
     ],
     "prompt_number": 2
    },
    {
     "cell_type": "code",
     "collapsed": false,
     "input": [
      "!ls"
     ],
     "language": "python",
     "metadata": {},
     "outputs": [
      {
       "output_type": "stream",
       "stream": "stdout",
       "text": [
        "biologydirect-1-1-19-caps.txt  pone.0000224.g001.tif  pone.0000248.g005.tif\r\n",
        "biologydirect-1-1-19-jpg.txt   pone.0000235.g002.tif  pone.0000266.g002.tif\r\n",
        "pone.0000189.g005.tif\t       pone.0000248.g001.tif  pone.0000266.g003.tif\r\n",
        "pone.0000189.g006.tif\t       pone.0000248.g002.tif\r\n",
        "pone.0000204.g006.tif\t       pone.0000248.g003.tif\r\n"
       ]
      }
     ],
     "prompt_number": 3
    },
    {
     "cell_type": "code",
     "collapsed": false,
     "input": [
      "import os,sys,glob"
     ],
     "language": "python",
     "metadata": {},
     "outputs": [],
     "prompt_number": 4
    },
    {
     "cell_type": "code",
     "collapsed": false,
     "input": [
      "path = \"/home/ross/workspace/mygithub/Trying-beautiful-soup/biologydirect-1-1-19/*.tif\""
     ],
     "language": "python",
     "metadata": {},
     "outputs": [],
     "prompt_number": 5
    },
    {
     "cell_type": "code",
     "collapsed": false,
     "input": [
      "print path"
     ],
     "language": "python",
     "metadata": {},
     "outputs": [
      {
       "output_type": "stream",
       "stream": "stdout",
       "text": [
        "/home/ross/workspace/mygithub/Trying-beautiful-soup/biologydirect-1-1-19/*.tif\n"
       ]
      }
     ],
     "prompt_number": 6
    },
    {
     "cell_type": "code",
     "collapsed": false,
     "input": [
      "import glob, exiftool"
     ],
     "language": "python",
     "metadata": {},
     "outputs": [],
     "prompt_number": 7
    },
    {
     "cell_type": "code",
     "collapsed": false,
     "input": [
      "for fname in glob.glob(path):\n",
      "    \n",
      "    print(fname)"
     ],
     "language": "python",
     "metadata": {},
     "outputs": [
      {
       "output_type": "stream",
       "stream": "stdout",
       "text": [
        "/home/ross/workspace/mygithub/Trying-beautiful-soup/biologydirect-1-1-19/pone.0000266.g003.tif\n",
        "/home/ross/workspace/mygithub/Trying-beautiful-soup/biologydirect-1-1-19/pone.0000248.g003.tif\n",
        "/home/ross/workspace/mygithub/Trying-beautiful-soup/biologydirect-1-1-19/pone.0000204.g006.tif\n",
        "/home/ross/workspace/mygithub/Trying-beautiful-soup/biologydirect-1-1-19/pone.0000248.g002.tif\n",
        "/home/ross/workspace/mygithub/Trying-beautiful-soup/biologydirect-1-1-19/pone.0000189.g006.tif\n",
        "/home/ross/workspace/mygithub/Trying-beautiful-soup/biologydirect-1-1-19/pone.0000224.g001.tif\n",
        "/home/ross/workspace/mygithub/Trying-beautiful-soup/biologydirect-1-1-19/pone.0000235.g002.tif\n",
        "/home/ross/workspace/mygithub/Trying-beautiful-soup/biologydirect-1-1-19/pone.0000266.g002.tif\n",
        "/home/ross/workspace/mygithub/Trying-beautiful-soup/biologydirect-1-1-19/pone.0000248.g001.tif\n",
        "/home/ross/workspace/mygithub/Trying-beautiful-soup/biologydirect-1-1-19/pone.0000248.g005.tif\n",
        "/home/ross/workspace/mygithub/Trying-beautiful-soup/biologydirect-1-1-19/pone.0000189.g005.tif\n"
       ]
      }
     ],
     "prompt_number": 8
    },
    {
     "cell_type": "code",
     "collapsed": false,
     "input": [
      "import exiftool\n",
      "\n",
      "files = [\"pone.0000248.g003.tif\", \"pone.0000248.g002.tif\", \"pone.0000189.g005.tif\"]\n",
      "with exiftool.ExifTool() as et:\n",
      "    metadata = et.get_metadata_batch(files)\n",
      "for d in metadata:\n",
      "    print(\"{:21.21} {:50.50}\".format(d[\"SourceFile\"],\n",
      "                                     d[\"XMP:Description\"]))"
     ],
     "language": "python",
     "metadata": {},
     "outputs": [
      {
       "output_type": "stream",
       "stream": "stdout",
       "text": [
        "pone.0000248.g003.tif <p>Haplogroup Q phylogeny. Abbreviations follow <x\n",
        "pone.0000248.g002.tif <p>Upper Pleistocene macrohaplogroup M phylogeny f\n",
        "pone.0000189.g005.tif <p>Phylogenetic analysis of PDZ and LIM domains. (\n"
       ]
      }
     ],
     "prompt_number": 13
    },
    {
     "cell_type": "code",
     "collapsed": false,
     "input": [
      "files = [\"pone.0000248.g003.tif\", \"pone.0000248.g002.tif\", \"pone.0000189.g005.tif\"]\n",
      "with exiftool.ExifTool() as et:\n",
      "    metadata = et.get_metadata_batch(files)\n",
      "for d in metadata:\n",
      "    print(\"{:21.21} {:50.50}\".format(d[\"SourceFile\"],\n",
      "                                     d[\"XMP:Description\"]))"
     ],
     "language": "python",
     "metadata": {},
     "outputs": []
    }
   ],
   "metadata": {}
  }
 ]
}