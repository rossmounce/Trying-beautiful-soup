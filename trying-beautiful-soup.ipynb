{
 "metadata": {
  "name": ""
 },
 "nbformat": 3,
 "nbformat_minor": 0,
 "worksheets": [
  {
   "cells": [
    {
     "cell_type": "code",
     "collapsed": false,
     "input": [
      "!ls"
     ],
     "language": "python",
     "metadata": {},
     "outputs": [
      {
       "output_type": "stream",
       "stream": "stdout",
       "text": [
        "biologydirect-1-1-19.html\t   parasitesandvectors-3-1-115.html\r\n",
        "biomedcentral1471-2164-7-151.html  README.md\r\n",
        "genomebiology2013-14-6-122.html    trying-beautiful-soup.ipynb\r\n",
        "jbiol-8-6-54.html\t\t   virologyj-11-1-26.html\r\n",
        "LICENSE\r\n"
       ]
      }
     ],
     "prompt_number": 2
    },
    {
     "cell_type": "code",
     "collapsed": false,
     "input": [],
     "language": "python",
     "metadata": {},
     "outputs": []
    }
   ],
   "metadata": {}
  }
 ]
}