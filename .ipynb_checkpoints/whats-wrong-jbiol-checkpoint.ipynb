{
 "metadata": {
  "name": ""
 },
 "nbformat": 3,
 "nbformat_minor": 0,
 "worksheets": [
  {
   "cells": [
    {
     "cell_type": "code",
     "collapsed": false,
     "input": [
      "!ls"
     ],
     "language": "python",
     "metadata": {},
     "outputs": [
      {
       "output_type": "stream",
       "stream": "stdout",
       "text": [
        "biologydirect-1-1-19.html\r\n",
        "biologydirect-1-1-19.html-caps.txt\r\n",
        "biologydirect-1-1-19.html-URLs.txt\r\n",
        "biomedcentral1471-2164-7-151.html\r\n",
        "biomedcentral1471-2164-7-151.html-caps.txt\r\n",
        "biomedcentral1471-2164-7-151.html-URLs.txt\r\n",
        "genomebiology2013-14-6-122.html\r\n",
        "genomebiology2013-14-6-122.html-caps.txt\r\n",
        "genomebiology2013-14-6-122.html-URLs.txt\r\n",
        "get-figures.py\r\n",
        "jbiol-8-6-54.html\r\n",
        "jbiol-8-6-54.html-URLs.txt\r\n",
        "LICENSE\r\n",
        "parasitesandvectors-3-1-115.html\r\n",
        "parasitesandvectors-3-1-115.html-caps.txt\r\n",
        "parasitesandvectors-3-1-115.html-URLs.txt\r\n",
        "README.md\r\n",
        "trying-beautiful-soup.ipynb\r\n",
        "virologycaptions.txt\r\n",
        "virology-fig-image-links.txt\r\n",
        "virologyj-11-1-26.html\r\n",
        "virologyj-11-1-26.html-caps.txt\r\n",
        "virologyj-11-1-26.html-URLs.txt\r\n",
        "whats-wrong-jbiol.ipynb\r\n"
       ]
      }
     ],
     "prompt_number": 1
    },
    {
     "cell_type": "code",
     "collapsed": false,
     "input": [
      "from bs4 import BeautifulSoup"
     ],
     "language": "python",
     "metadata": {},
     "outputs": [],
     "prompt_number": 2
    },
    {
     "cell_type": "markdown",
     "metadata": {},
     "source": [
      "Load in the file:"
     ]
    },
    {
     "cell_type": "code",
     "collapsed": false,
     "input": [
      "soup = BeautifulSoup (open(\"jbiol-8-6-54.html\"))"
     ],
     "language": "python",
     "metadata": {},
     "outputs": [],
     "prompt_number": 3
    },
    {
     "cell_type": "markdown",
     "metadata": {},
     "source": [
      "I want figure caption text. And separately, the URL link to the figure image:\n"
     ]
    },
    {
     "cell_type": "markdown",
     "metadata": {},
     "source": [
      "<div class=\"figs\">\n",
      "<div class=\"fig\"><p><a href=\"http://jbiol.com/content/8/6/54/figure/F1\" onclick=\"popup('http://jbiol.com/content/8/6/54/figure/F1','F1',800,470); return false;\"><img align=\"top\" alt=\"thumbnail\" class=\"thumbnail\" src=\"/content/figures/jbiol160-1.gif\"/><strong>Figure 1.</strong></a> The Tree of Life as impacted by horizontal gene transfer. <strong>(a) </strong>Extensive horizontal gene transfer at all phylogenetic levels combine to produce a\n",
      "         'Web of Life' that often obscures the lines of descent between groups (modified from\n",
      "         <a name=\"d56017e148\"></a>[<a href=\"#B10\" onclick=\"LoadInParent('#B10'); return false;\">10</a>]). Copyright (2008) National Academy of Sciences, USA. <strong>(b) </strong>Major microbial groups as defined by 16S ribosomal RNA phylogeny. Bands represent\n",
      "         some avenues of extensive gene sharing involving Thermotogales, Aquificales, and Firmicutes.\n",
      "         <strong>(c) </strong>Impact on relationships between Thermotogales and Aquificales of genome content changes\n",
      "         due to extensive horizontal gene transfer. Grey clouds represent groups of shared\n",
      "         genes between clades that are non-monophyletic in the 16S tree. The phylogeny based\n",
      "         on these 'gene content' clouds is quite distinct from that of 16S or other ribosome-based\n",
      "         trees.\n",
      "      </p></div></div>"
     ]
    },
    {
     "cell_type": "markdown",
     "metadata": {},
     "source": [
      "-------------- ***Rendered HTML above, raw below*** ----------------"
     ]
    },
    {
     "cell_type": "raw",
     "metadata": {},
     "source": [
      "<div class=\"fig\"><p><a href=\"http://jbiol.com/content/8/6/54/figure/F1\" onclick=\"popup('http://jbiol.com/content/8/6/54/figure/F1','F1',800,470); return false;\"><img align=\"top\" alt=\"thumbnail\" class=\"thumbnail\" src=\"/content/figures/jbiol160-1.gif\"/><strong>Figure 1.</strong></a> The Tree of Life as impacted by horizontal gene transfer. <strong>(a) </strong>Extensive horizontal gene transfer at all phylogenetic levels combine to produce a\n",
      "         'Web of Life' that often obscures the lines of descent between groups (modified from\n",
      "         <a name=\"d56017e148\"></a>[<a href=\"#B10\" onclick=\"LoadInParent('#B10'); return false;\">10</a>]). Copyright (2008) National Academy of Sciences, USA. <strong>(b) </strong>Major microbial groups as defined by 16S ribosomal RNA phylogeny. Bands represent\n",
      "         some avenues of extensive gene sharing involving Thermotogales, Aquificales, and Firmicutes.\n",
      "         <strong>(c) </strong>Impact on relationships between Thermotogales and Aquificales of genome content changes\n",
      "         due to extensive horizontal gene transfer. Grey clouds represent groups of shared\n",
      "         genes between clades that are non-monophyletic in the 16S tree. The phylogeny based\n",
      "         on these 'gene content' clouds is quite distinct from that of 16S or other ribosome-based\n",
      "         trees.\n",
      "      </p></div>"
     ]
    },
    {
     "cell_type": "markdown",
     "metadata": {},
     "source": [
      "Thanks StackOverflow for the syntax for the next one: http://stackoverflow.com/questions/19011613/using-beautifulsoup-to-select-div-blocks-withing-html"
     ]
    },
    {
     "cell_type": "markdown",
     "metadata": {},
     "source": [
      "Useful for later: \n",
      "    print(soup.get_text())"
     ]
    },
    {
     "cell_type": "code",
     "collapsed": false,
     "input": [
      "file = open(\"jbiol-fig-image-links.txt\", \"wb\")"
     ],
     "language": "python",
     "metadata": {},
     "outputs": [],
     "prompt_number": 29
    },
    {
     "cell_type": "code",
     "collapsed": false,
     "input": [
      "for tr in divfig:\n",
      "    for link in tr.find_all('a'):\n",
      "        fullink = link.get ('href')\n",
      "        print fullink #print in terminal to verify results\n",
      "        file.write(fullink+'\\n')"
     ],
     "language": "python",
     "metadata": {},
     "outputs": [
      {
       "ename": "TypeError",
       "evalue": "unsupported operand type(s) for +: 'NoneType' and 'str'",
       "output_type": "pyerr",
       "traceback": [
        "\u001b[0;31m---------------------------------------------------------------------------\u001b[0m\n\u001b[0;31mTypeError\u001b[0m                                 Traceback (most recent call last)",
        "\u001b[0;32m<ipython-input-30-0c8240311236>\u001b[0m in \u001b[0;36m<module>\u001b[0;34m()\u001b[0m\n\u001b[1;32m      3\u001b[0m         \u001b[0mfullink\u001b[0m \u001b[0;34m=\u001b[0m \u001b[0mlink\u001b[0m\u001b[0;34m.\u001b[0m\u001b[0mget\u001b[0m \u001b[0;34m(\u001b[0m\u001b[0;34m'href'\u001b[0m\u001b[0;34m)\u001b[0m\u001b[0;34m\u001b[0m\u001b[0m\n\u001b[1;32m      4\u001b[0m         \u001b[0;32mprint\u001b[0m \u001b[0mfullink\u001b[0m \u001b[0;31m#print in terminal to verify results\u001b[0m\u001b[0;34m\u001b[0m\u001b[0m\n\u001b[0;32m----> 5\u001b[0;31m         \u001b[0mfile\u001b[0m\u001b[0;34m.\u001b[0m\u001b[0mwrite\u001b[0m\u001b[0;34m(\u001b[0m\u001b[0mfullink\u001b[0m\u001b[0;34m+\u001b[0m\u001b[0;34m'\\n'\u001b[0m\u001b[0;34m)\u001b[0m\u001b[0;34m\u001b[0m\u001b[0m\n\u001b[0m",
        "\u001b[0;31mTypeError\u001b[0m: unsupported operand type(s) for +: 'NoneType' and 'str'"
       ]
      },
      {
       "output_type": "stream",
       "stream": "stdout",
       "text": [
        "http://jbiol.com/content/8/6/54/figure/F1\n",
        "None\n"
       ]
      }
     ],
     "prompt_number": 30
    },
    {
     "cell_type": "code",
     "collapsed": false,
     "input": [
      "file.flush()\n",
      "file.close()"
     ],
     "language": "python",
     "metadata": {},
     "outputs": [],
     "prompt_number": 31
    },
    {
     "cell_type": "markdown",
     "metadata": {},
     "source": [
      "So, we can get the URLs (above) from divfig and the plaintext captions (below)"
     ]
    },
    {
     "cell_type": "code",
     "collapsed": false,
     "input": [
      "file = open(\"jbiolcaptions.txt\", \"wb\")"
     ],
     "language": "python",
     "metadata": {},
     "outputs": [],
     "prompt_number": 23
    },
    {
     "cell_type": "code",
     "collapsed": false,
     "input": [
      "for tr in divfig:\n",
      "    for link in tr.find_all('p'):\n",
      "        plaintext = link.get_text ()\n",
      "        oneline = plaintext.replace('\\n',' ').replace('          ',' ')\n",
      "        print oneline\n",
      "        file.write(oneline+'\\n')"
     ],
     "language": "python",
     "metadata": {},
     "outputs": [
      {
       "output_type": "stream",
       "stream": "stdout",
       "text": [
        "Figure 1. The Tree of Life as impacted by horizontal gene transfer. (a) Extensive horizontal gene transfer at all phylogenetic levels combine to produce a 'Web of Life' that often obscures the lines of descent between groups (modified from [10]). Copyright (2008) National Academy of Sciences, USA. (b) Major microbial groups as defined by 16S ribosomal RNA phylogeny. Bands represent some avenues of extensive gene sharing involving Thermotogales, Aquificales, and Firmicutes. (c) Impact on relationships between Thermotogales and Aquificales of genome content changes due to extensive horizontal gene transfer. Grey clouds represent groups of shared genes between clades that are non-monophyletic in the 16S tree. The phylogeny based on these 'gene content' clouds is quite distinct from that of 16S or other ribosome-based trees.       \n"
       ]
      }
     ],
     "prompt_number": 24
    },
    {
     "cell_type": "code",
     "collapsed": false,
     "input": [
      "file.flush()\n",
      "file.close()"
     ],
     "language": "python",
     "metadata": {},
     "outputs": [],
     "prompt_number": 25
    },
    {
     "cell_type": "code",
     "collapsed": false,
     "input": [],
     "language": "python",
     "metadata": {},
     "outputs": [],
     "prompt_number": 156
    }
   ],
   "metadata": {}
  }
 ]
}